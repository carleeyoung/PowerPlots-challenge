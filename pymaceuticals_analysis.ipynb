{
 "cells": [
  {
   "cell_type": "markdown",
   "metadata": {},
   "source": [
    "## Observations and Insights \n",
    "\n",
    "* For this dataset, the number of mice tested was greatest for Capomulin and Ramicane and was least for Propriva.  The division between male and female mice was split relatively evenly.\n",
    "* The data for Capomulin and Ramicane showed the least variability with the lowest standard deviation and standard error of the mean.  In addition, these drugs show the smallest final tumor volume indicating effectiveness in treatment.\n",
    "* For Capomulin, there is a strong correlation between the tumor volume and mouse weight with a correlation coefficient of 0.84 and an r-squared value of 0.71.  \n",
    "* Capomulin and Ramicane are the most promising drug regimens in this study given the large sample size, low variability, and greatest tumor volume reduction."
   ]
  },
  {
   "cell_type": "markdown",
   "metadata": {},
   "source": []
  },
  {
   "cell_type": "code",
   "execution_count": null,
   "metadata": {},
   "outputs": [],
   "source": [
    "# Dependencies and Setup\n",
    "import matplotlib.pyplot as plt\n",
    "import pandas as pd\n",
    "import scipy.stats as sts\n",
    "\n",
    "# Study data files\n",
    "mouse_metadata_path = \"data/Mouse_metadata.csv\"\n",
    "study_results_path = \"data/Study_results.csv\"\n",
    "\n",
    "# Read the mouse data and the study results\n",
    "mouse_metadata = pd.read_csv(mouse_metadata_path)\n",
    "study_results = pd.read_csv(study_results_path)\n",
    "print(mouse_metadata.columns)\n",
    "print(study_results.columns)\n",
    "\n",
    "# Combine the data into a single dataset\n",
    "master_df = pd.merge(study_results, mouse_metadata, on=\"Mouse ID\", how=\"outer\")\n",
    "master_df"
   ]
  },
  {
   "cell_type": "code",
   "execution_count": null,
   "metadata": {},
   "outputs": [],
   "source": [
    "# Checking the number of mice in the DataFrame.\n",
    "len(master_df[\"Mouse ID\"].value_counts())"
   ]
  },
  {
   "cell_type": "code",
   "execution_count": null,
   "metadata": {},
   "outputs": [],
   "source": [
    "# Getting the duplicate mice by ID number that shows up for Mouse ID and Timepoint. \n",
    "duplicate_df = master_df[master_df.duplicated(subset=[\"Mouse ID\",\"Timepoint\"], keep=False)]\n",
    "duplicate_df"
   ]
  },
  {
   "cell_type": "code",
   "execution_count": null,
   "metadata": {},
   "outputs": [],
   "source": [
    "# Create a clean DataFrame by dropping the duplicate mouse by its ID.\n",
    "\n",
    "clean_df = master_df[master_df[\"Mouse ID\"] != \"g989\"]\n",
    "\n",
    "clean_df"
   ]
  },
  {
   "cell_type": "code",
   "execution_count": null,
   "metadata": {},
   "outputs": [],
   "source": [
    "# Checking the number of mice in the clean DataFrame.\n",
    "len(clean_df[\"Mouse ID\"].value_counts())"
   ]
  },
  {
   "cell_type": "markdown",
   "metadata": {},
   "source": [
    "## Summary Statistics"
   ]
  },
  {
   "cell_type": "code",
   "execution_count": null,
   "metadata": {},
   "outputs": [],
   "source": [
    "# Generate a summary statistics table of mean, median, variance, standard deviation, and SEM of the tumor volume for each regimen\n",
    "\n",
    "\n",
    "# This method is the most straightforward, creating multiple series and putting them all together at the end.\n",
    "\n",
    "regimen_gb = clean_df.groupby([\"Drug Regimen\"])\n",
    "\n",
    "sumstats = {\"Tumor Volume Mean\": regimen_gb[\"Tumor Volume (mm3)\"].mean(),\n",
    "           \"Tumor Volume Median\": regimen_gb[\"Tumor Volume (mm3)\"].median(),\n",
    "           \"Tumor Volume Variance\": regimen_gb[\"Tumor Volume (mm3)\"].var(),\n",
    "           \"Tumor Volume Standard Deviation\": regimen_gb[\"Tumor Volume (mm3)\"].std(),\n",
    "           \"Tumor Volume SEM\": regimen_gb[\"Tumor Volume (mm3)\"].sem()}\n",
    "\n",
    "sumstats_df = pd.DataFrame(sumstats)\n",
    "                           \n",
    "sumstats_df\n"
   ]
  },
  {
   "cell_type": "code",
   "execution_count": null,
   "metadata": {
    "scrolled": true
   },
   "outputs": [],
   "source": [
    "# Generate a summary statistics table of mean, median, variance, standard deviation, and SEM of the tumor volume for each regimen\n",
    "\n",
    "# This method produces everything in a single groupby function.\n",
    "\n",
    "regimen_tumor_gb = clean_df.groupby([\"Drug Regimen\"])\n",
    "\n",
    "regimen_tumor_gb[\"Tumor Volume (mm3)\"].agg([\"mean\", \"median\", \"var\", \"std\", \"sem\"])"
   ]
  },
  {
   "cell_type": "markdown",
   "metadata": {},
   "source": [
    "## Bar Plots"
   ]
  },
  {
   "cell_type": "code",
   "execution_count": null,
   "metadata": {},
   "outputs": [],
   "source": [
    "# Generate a bar plot showing the number of mice per time point for each treatment throughout the course of the study using pandas.\n",
    "regimen_df = clean_df.loc[:, [\"Drug Regimen\", \"Mouse ID\", \"Timepoint\"]]\n",
    "regimen_group = regimen_df.groupby([\"Drug Regimen\"])\n",
    "mouse_count = regimen_group[\"Mouse ID\"].count()\n",
    "\n",
    "mouse_chart = mouse_count.plot(kind=\"bar\")\n",
    "mouse_chart.set_title(\"Number of Mice Tested for Drug Regimens\")\n",
    "mouse_chart.set_xlabel(\"Drug Regimen\")\n",
    "mouse_chart.set_ylabel(\"Mouse Count\")\n"
   ]
  },
  {
   "cell_type": "code",
   "execution_count": null,
   "metadata": {},
   "outputs": [],
   "source": [
    "# Generate a bar plot showing the number of mice per time point for each treatment throughout the course of the study using pyplot.\n",
    "regimen_df = regimen_df.sort_values(\"Drug Regimen\")\n",
    "mouse = regimen_group[\"Mouse ID\"].count()\n",
    "regimen = regimen_df[\"Drug Regimen\"].unique()\n",
    "\n",
    "fig, ax = plt.subplots()\n",
    "xlabels = regimen\n",
    "plt.bar(regimen, mouse)\n",
    "ax.set_xticklabels(xlabels, rotation=90, ha='center')\n",
    "plt.title(\"Number of Mice Tested for Drug Regimens\")\n",
    "plt.xlabel(\"Drug Regimen\")\n",
    "plt.ylabel(\"Mouse Count\")"
   ]
  },
  {
   "cell_type": "markdown",
   "metadata": {},
   "source": [
    "## Pie Plots"
   ]
  },
  {
   "cell_type": "code",
   "execution_count": null,
   "metadata": {},
   "outputs": [],
   "source": [
    "# Generate a pie plot showing the distribution of female versus male mice using pandas\n",
    "\n",
    "gender_gb = clean_df.groupby([\"Sex\"])\n",
    "\n",
    "gender = gender_gb[\"Sex\"].value_counts()\n",
    "index = gender_gb[\"Sex\"].unique()\n",
    "\n",
    "gender_df = pd.DataFrame({\"Gender\": gender})\n",
    "\n",
    "pie_plot = gender_df[\"Gender\"].plot.pie(y=\"Gender\", labels=(\"Female\", \"Male\"), autopct='%1.1f%%', colors=(\"b\", \"g\"))\n",
    "pie_plot.set_title(\"Mice Gender Ratio\")"
   ]
  },
  {
   "cell_type": "code",
   "execution_count": null,
   "metadata": {},
   "outputs": [],
   "source": [
    "# Generate a pie plot showing the distribution of female versus male mice using pyplot\n",
    "plt.pie(gender, labels=(\"Female\", \"Male\"), autopct=\"%1.1f%%\", colors=(\"b\", \"g\"))\n",
    "plt.title(\"Mice Gender Ratio\")\n"
   ]
  },
  {
   "cell_type": "markdown",
   "metadata": {},
   "source": [
    "## Quartiles, Outliers and Boxplots"
   ]
  },
  {
   "cell_type": "code",
   "execution_count": null,
   "metadata": {
    "scrolled": true
   },
   "outputs": [],
   "source": [
    "# Calculate the final tumor volume of each mouse across four of the most promising treatment regimens. \n",
    "#Calculate the IQR and quantitatively determine if there are any potential outliers. \n",
    "# Calculate the final tumor volume of each mouse across four of the most promising treatment regimens. Calculate the IQR and quantitatively determine if there are any potential outliers. \n",
    "\n",
    "# Start by getting the last (greatest) timepoint for each mouse\n",
    "mouse_time = clean_df.groupby([\"Mouse ID\"])[\"Timepoint\"].max()\n",
    "\n",
    "#Join last timepoint data with working data frame\n",
    "mouse_df = pd.merge(mouse_time, clean_df, on=(\"Mouse ID\", \"Timepoint\"), how=\"inner\")\n",
    "\n",
    "#Find most promising treatment - determined by the smallest tumor volume on average at the last timepoint for each mouse.\n",
    "final_time_regimen_gb = mouse_df.groupby([\"Drug Regimen\"])\n",
    "\n",
    "final_time_regimen_df = pd.DataFrame(final_time_regimen_gb[\"Tumor Volume (mm3)\"].describe())\n",
    "sorted_regimen_df = final_time_regimen_df.sort_values(\"mean\")\n",
    "\n",
    "print(f\"\\nThe four most promising drug regimens using the maximum timepoint are {sorted_regimen_df.index[0]}, {sorted_regimen_df.index[1]}, {sorted_regimen_df.index[2]}, and {sorted_regimen_df.index[3]}.\")\n",
    "\n",
    "#If tumor volume is the indication of promising treatment, then the above statement will print the most promising treatments.\n",
    "#However, since many of the mice included in this dataset did not survive or continue the study to the final timepoint of day 45,\n",
    "#another analysis using only the day 45 samples was used to deterimine the most promising treatments for the remaining\n",
    "#analysis.  \n",
    "time_45_df = clean_df.loc[clean_df[\"Timepoint\"] == 45]\n",
    "time_45_gb = time_45_df.groupby([\"Drug Regimen\"])\n",
    "time_45_final_df = pd.DataFrame(time_45_gb[\"Tumor Volume (mm3)\"].describe())\n",
    "sort_time_45_df = time_45_final_df.sort_values(\"mean\")\n",
    "\n",
    "print(f\"\\nThe four most promising drug regimens for mice surviving to day 45 are {sort_time_45_df.index[0]}, {sort_time_45_df.index[1]}, {sort_time_45_df.index[2]}, and {sort_time_45_df.index[3]}.\")"
   ]
  },
  {
   "cell_type": "code",
   "execution_count": null,
   "metadata": {},
   "outputs": [],
   "source": [
    "# Quantitatively determine Ramicane outliers\n",
    "#Note - analysis of the most promising regimens will include data for all timepoints.  \n",
    "Ramicane_df = mouse_df.loc[mouse_df[\"Drug Regimen\"] == \"Ramicane\", :]\n",
    "\n",
    "print(f\"Mean: {Ramicane_df['Tumor Volume (mm3)'].mean()}\")\n",
    "print(f\"Median: {Ramicane_df['Tumor Volume (mm3)'].median()}\")\n",
    "print(f\"Mode: {Ramicane_df['Tumor Volume (mm3)'].mode()}\")\n",
    "\n",
    "quartiles = Ramicane_df[\"Tumor Volume (mm3)\"].quantile([.25,.5,.75])\n",
    "lowerq = quartiles[0.25]\n",
    "upperq = quartiles[0.75]\n",
    "iqr = upperq-lowerq\n",
    "\n",
    "print(f\"Lower quartile: {lowerq}\")\n",
    "print(f\"Upper quartile: {upperq}\")\n",
    "print(f\"Interquartile range: {iqr}\")\n",
    "print(f\"Median Tumor volume: {quartiles[0.5]} \")\n",
    "\n",
    "lower_bound = lowerq - (1.5*iqr)\n",
    "upper_bound = upperq + (1.5*iqr)\n",
    "print(f\"Values below {lower_bound} could be outliers.\")\n",
    "print(f\"Values above {upper_bound} could be outliers.\")\n",
    "\n",
    "outlier_tumor = Ramicane_df.loc[(Ramicane_df[\"Tumor Volume (mm3)\"] < lower_bound) | (Ramicane_df[\"Tumor Volume (mm3)\"] > upper_bound)]\n",
    "outlier_tumor"
   ]
  },
  {
   "cell_type": "code",
   "execution_count": null,
   "metadata": {},
   "outputs": [],
   "source": [
    "# Quantitatively determine Capomulin outliers\n",
    "Capomulin_df = mouse_df.loc[mouse_df[\"Drug Regimen\"] == \"Capomulin\", :]\n",
    "\n",
    "print(f\"Mean: {Capomulin_df['Tumor Volume (mm3)'].mean()}\")\n",
    "print(f\"Median: {Capomulin_df['Tumor Volume (mm3)'].median()}\")\n",
    "print(f\"Mode: {Capomulin_df['Tumor Volume (mm3)'].mode()}\")\n",
    "\n",
    "quartiles = Capomulin_df[\"Tumor Volume (mm3)\"].quantile([.25,.5,.75])\n",
    "lowerq = quartiles[0.25]\n",
    "upperq = quartiles[0.75]\n",
    "iqr = upperq-lowerq\n",
    "\n",
    "print(f\"Lower quartile: {lowerq}\")\n",
    "print(f\"Upper quartile: {upperq}\")\n",
    "print(f\"Interquartile range: {iqr}\")\n",
    "print(f\"Median Tumor volume: {quartiles[0.5]} \")\n",
    "\n",
    "lower_bound = lowerq - (1.5*iqr)\n",
    "upper_bound = upperq + (1.5*iqr)\n",
    "print(f\"Values below {lower_bound} could be outliers.\")\n",
    "print(f\"Values above {upper_bound} could be outliers.\")\n",
    "\n",
    "outlier_tumor = Capomulin_df.loc[(Capomulin_df[\"Tumor Volume (mm3)\"] < lower_bound) | (Capomulin_df[\"Tumor Volume (mm3)\"] > upper_bound)]\n",
    "outlier_tumor"
   ]
  },
  {
   "cell_type": "code",
   "execution_count": null,
   "metadata": {},
   "outputs": [],
   "source": [
    "# Quantitatively determine Ceftamin outliers\n",
    "Ceftamin_df = mouse_df.loc[mouse_df[\"Drug Regimen\"] == \"Ceftamin\", :]\n",
    "\n",
    "print(f\"Mean: {Ceftamin_df['Tumor Volume (mm3)'].mean()}\")\n",
    "print(f\"Median: {Ceftamin_df['Tumor Volume (mm3)'].median()}\")\n",
    "print(f\"Mode: {Ceftamin_df['Tumor Volume (mm3)'].mode()}\")\n",
    "\n",
    "quartiles = Ceftamin_df[\"Tumor Volume (mm3)\"].quantile([.25,.5,.75])\n",
    "lowerq = quartiles[0.25]\n",
    "upperq = quartiles[0.75]\n",
    "iqr = upperq-lowerq\n",
    "\n",
    "print(f\"Lower quartile: {lowerq}\")\n",
    "print(f\"Upper quartile: {upperq}\")\n",
    "print(f\"Interquartile range: {iqr}\")\n",
    "print(f\"Median Tumor volume: {quartiles[0.5]} \")\n",
    "\n",
    "lower_bound = lowerq - (1.5*iqr)\n",
    "upper_bound = upperq + (1.5*iqr)\n",
    "print(f\"Values below {lower_bound} could be outliers.\")\n",
    "print(f\"Values above {upper_bound} could be outliers.\")\n",
    "\n",
    "outlier_tumor = Ceftamin_df.loc[(Ceftamin_df[\"Tumor Volume (mm3)\"] < lower_bound) | (Ceftamin_df[\"Tumor Volume (mm3)\"] > upper_bound)]\n",
    "outlier_tumor"
   ]
  },
  {
   "cell_type": "code",
   "execution_count": null,
   "metadata": {},
   "outputs": [],
   "source": [
    "# Quantitatively determine Infubinol outliers\n",
    "Infubinol_df = mouse_df.loc[mouse_df[\"Drug Regimen\"] == \"Infubinol\", :]\n",
    "\n",
    "print(f\"Mean: {Infubinol_df['Tumor Volume (mm3)'].mean()}\")\n",
    "print(f\"Median: {Infubinol_df['Tumor Volume (mm3)'].median()}\")\n",
    "print(f\"Mode: {Infubinol_df['Tumor Volume (mm3)'].mode()}\")\n",
    "\n",
    "quartiles = Infubinol_df[\"Tumor Volume (mm3)\"].quantile([.25,.5,.75])\n",
    "lowerq = quartiles[0.25]\n",
    "upperq = quartiles[0.75]\n",
    "iqr = upperq-lowerq\n",
    "\n",
    "print(f\"Lower quartile: {lowerq}\")\n",
    "print(f\"Upper quartile: {upperq}\")\n",
    "print(f\"Interquartile range: {iqr}\")\n",
    "print(f\"Median Tumor volume: {quartiles[0.5]} \")\n",
    "\n",
    "lower_bound = lowerq - (1.5*iqr)\n",
    "upper_bound = upperq + (1.5*iqr)\n",
    "print(f\"Values below {lower_bound} could be outliers.\")\n",
    "print(f\"Values above {upper_bound} could be outliers.\")\n",
    "\n",
    "outlier_tumor = Infubinol_df.loc[(Infubinol_df[\"Tumor Volume (mm3)\"] < lower_bound) | (Infubinol_df[\"Tumor Volume (mm3)\"] > upper_bound)]\n",
    "outlier_tumor"
   ]
  },
  {
   "cell_type": "code",
   "execution_count": null,
   "metadata": {},
   "outputs": [],
   "source": [
    "# Generate a box plot of the final tumor volume of each mouse across four regimens of interest\n",
    "#\n",
    "#Subset data by drug regimen\n",
    "Ramicane = mouse_df.loc[(mouse_df[\"Drug Regimen\"] == \"Ramicane\" )]\n",
    "Capomulin = mouse_df.loc[(mouse_df[\"Drug Regimen\"] == \"Capomulin\" )]\n",
    "Ceftamin = mouse_df.loc[(mouse_df[\"Drug Regimen\"] == \"Ceftamin\" )]\n",
    "Infubinol = mouse_df.loc[(mouse_df[\"Drug Regimen\"] == \"Infubinol\" )]\n",
    "\n",
    "#set plot specifications\n",
    "fig, ax = plt.subplots()\n",
    "Best_Regimen = [Ramicane[\"Tumor Volume (mm3)\"], Capomulin[\"Tumor Volume (mm3)\"], Ceftamin[\"Tumor Volume (mm3)\"], Infubinol[\"Tumor Volume (mm3)\"]]\n",
    "ax.boxplot(Best_Regimen, False, \"r\", labels=[\"Ramicane\", \"Capomulin\", \"Ceftamin\", \"Infubinol\"])\n",
    "plt.title(\"Tumor Volume by Drug Regimen\")\n",
    "plt.ylabel(\"Tumor Volume (mm3)\")\n",
    "plt.xlabel(\"Drug Regimen\")\n",
    "plt.show()\n"
   ]
  },
  {
   "cell_type": "markdown",
   "metadata": {},
   "source": [
    "## Line and Scatter Plots"
   ]
  },
  {
   "cell_type": "code",
   "execution_count": null,
   "metadata": {},
   "outputs": [],
   "source": [
    "# Generate a line plot of time point versus tumor volume for a mouse treated with Capomulin\n",
    "#Select a mouse from the Capomulin treatment set\n",
    "capomulin_mouse_df = clean_df.loc[(clean_df[\"Drug Regimen\"] == \"Capomulin\") & (clean_df[\"Mouse ID\"] == \"b128\"), :]\n",
    "\n",
    "#set plot specifications\n",
    "plt.plot(capomulin_mouse_df[\"Timepoint\"], capomulin_mouse_df[\"Tumor Volume (mm3)\"])\n",
    "plt.title('Mouse \"b128\" Treatment Results')\n",
    "plt.xlabel(\"Timepoint\")\n",
    "plt.ylabel(\"Tumor Volume (mm3)\")\n",
    "plt.xlim(-.1, 45.3)\n",
    "plt.ylim(37.5, 46)\n",
    "plt.show()"
   ]
  },
  {
   "cell_type": "code",
   "execution_count": null,
   "metadata": {},
   "outputs": [],
   "source": [
    "# Generate a scatter plot of mouse weight versus average tumor volume for the Capomulin regimen\n",
    "capomulin_df = clean_df.loc[clean_df[\"Drug Regimen\"] == \"Capomulin\", :]\n",
    "plt.scatter(capomulin_df[\"Weight (g)\"].groupby(capomulin_df[\"Mouse ID\"]).mean(),\n",
    "            capomulin_df[\"Tumor Volume (mm3)\"].groupby(capomulin_df[\"Mouse ID\"]).mean())\n",
    "plt.title(\"Capomulin Treated Mice \\nAverage Weight vs. Average Tumor Volume (mm3)\")\n",
    "plt.xlabel(\"Weight (g)\")\n",
    "plt.ylabel(\"Tumor Volume (mm3)\")\n",
    "plt.show()\n"
   ]
  },
  {
   "cell_type": "markdown",
   "metadata": {},
   "source": [
    "## Correlation and Regression"
   ]
  },
  {
   "cell_type": "code",
   "execution_count": null,
   "metadata": {},
   "outputs": [],
   "source": [
    "# Calculate the correlation coefficient and linear regression model \n",
    "# for mouse weight and average tumor volume for the Capomulin regimen\n",
    "\n",
    "#mouse average weight and average tumor volume calculations\n",
    "weight = capomulin_df[\"Weight (g)\"].groupby(capomulin_df[\"Mouse ID\"]).mean()\n",
    "avg_tumor_vol = capomulin_df[\"Tumor Volume (mm3)\"].groupby(capomulin_df[\"Mouse ID\"]).mean()\n",
    "\n",
    "#Pearson correlation coefficient\n",
    "correlation = sts.pearsonr(weight, avg_tumor_vol)\n",
    "\n",
    "#linear regression equation\n",
    "slope, intercept, r_value, p_value, std_err = sts.linregress(weight, avg_tumor_vol)\n",
    "\n",
    "fit = slope * weight + intercept\n",
    "\n",
    "line_eq = \"y = \" + str(round(slope,2)) + \"x +\" + str(round(intercept,2))\n",
    "\n",
    "#plot avg weight vs avg tumor vol and regression line\n",
    "plt.scatter(weight, avg_tumor_vol, label=\"Mouse Data\")\n",
    "plt.plot(weight, fit, \"r\", label=\"fitted line\")\n",
    "plt.annotate(line_eq, (18.7, 37.8), fontsize=15, color=\"red\")\n",
    "plt.title(\"Capomulin Treated Mice with Best Fit Line \\nAverage Weight vs. Average Tumor Volume (mm3)\")\n",
    "plt.xlabel(\"Weight (g)\")\n",
    "plt.ylabel(\"Tumor Volume (mm3)\")\n",
    "plt.legend()\n",
    "\n",
    "print(f\"The correlation between both factors is {round(correlation[0],2)}\")\n",
    "print(f\"The r square value is {round(r_value**2, 2)}.\")\n",
    "plt.show()"
   ]
  },
  {
   "cell_type": "code",
   "execution_count": null,
   "metadata": {},
   "outputs": [],
   "source": []
  },
  {
   "cell_type": "code",
   "execution_count": null,
   "metadata": {},
   "outputs": [],
   "source": []
  }
 ],
 "metadata": {
  "anaconda-cloud": {},
  "kernelspec": {
   "display_name": "Python [conda env:PythonData] *",
   "language": "python",
   "name": "conda-env-PythonData-py"
  },
  "language_info": {
   "codemirror_mode": {
    "name": "ipython",
    "version": 3
   },
   "file_extension": ".py",
   "mimetype": "text/x-python",
   "name": "python",
   "nbconvert_exporter": "python",
   "pygments_lexer": "ipython3",
   "version": "3.6.10"
  }
 },
 "nbformat": 4,
 "nbformat_minor": 2
}
